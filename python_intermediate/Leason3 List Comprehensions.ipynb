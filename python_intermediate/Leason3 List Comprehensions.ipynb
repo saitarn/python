{
 "cells": [
  {
   "cell_type": "markdown",
   "metadata": {},
   "source": [
    "Topic1\n",
    "In the previous mission, we worked with legislators.csv, which contains information on every person who has served in the U.S. Congress. We cleaned up some missing data and added a column for birth year.\n",
    "\n",
    "We'll continue to work with the same data set in this mission. Here's a preview of it in CSV format:\n",
    "\n",
    "\n",
    "last_name,first_name,birthday,gender,type,state,party,birth_year\n",
    "Bassett,Richard,1745-04-02,M,sen,DE,Anti-Administration,1745\n",
    "Bland,Theodorick,1742-03-21,M,rep,VA,1742\n",
    "Burke,Aedanus,1743-06-16,M,rep,SC,1743\n",
    "Carroll,Daniel,1730-07-22,M,rep,MD,1730\n",
    "The data set includes the following columns:\n",
    "\n",
    "last_name -- The legislator's last name\n",
    "first_name -- The legislator's first name\n",
    "birthday -- the legislator's birthday\n",
    "gender -- The legislator's gender\n",
    "type -- The chamber in which the legislator served - either Senate (sen) or House of Representatives (rep)\n",
    "state -- The state the legislator represents\n",
    "party -- The legislator's party affiliation\n",
    "birth_year -- integer values for the year the legislator was born\n",
    "In this mission, we'll use the data to find the most common names among U.S. legislators of each gender. Before diving into this, we'll explore some critical concepts, such as enumeration."
   ]
  },
  {
   "cell_type": "markdown",
   "metadata": {},
   "source": [
    "# Topic2 There are many situations where we'll need to iterate over multiple lists in tandem, such as this one:"
   ]
  },
  {
   "cell_type": "code",
   "execution_count": 5,
   "metadata": {},
   "outputs": [
    {
     "name": "stdout",
     "output_type": "stream",
     "text": [
      "Animal\n",
      "Dog\n",
      "Viciousness\n",
      "Animal\n",
      "Tiger\n",
      "Viciousness\n",
      "Animal\n",
      "SuperLion\n",
      "Viciousness\n",
      "Animal\n",
      "Cow\n",
      "Viciousness\n",
      "Animal\n",
      "Panda\n",
      "Viciousness\n"
     ]
    }
   ],
   "source": [
    "animals = [\"Dog\", \"Tiger\", \"SuperLion\", \"Cow\", \"Panda\"]\n",
    "viciousness = [1, 5, 10, 10, 1]\n",
    "\n",
    "for animal in animals:\n",
    "    print(\"Animal\")\n",
    "    print(animal)\n",
    "    print(\"Viciousness\")\n"
   ]
  },
  {
   "cell_type": "markdown",
   "metadata": {},
   "source": [
    "In the example above, we have two lists. The second list describes the viciousness of the animals in the first list. A Dog has a viciousness level of 1, and a SuperLion has a viciousness level of 10. We want to retrieve the position of the item in animals the loop is currently on, so we can use it to look up the corresponding value in the viciousness list.\n",
    "\n",
    "Unfortunately, we can't just loop through animals, and then tap into the second list. Python has an enumerate() function that can help us with this, though. The enumerate() function allows us to have two variables in the body of a for loop -- an index, and the value."
   ]
  },
  {
   "cell_type": "code",
   "execution_count": 6,
   "metadata": {},
   "outputs": [
    {
     "name": "stdout",
     "output_type": "stream",
     "text": [
      "Animal Index\n",
      "0\n",
      "Animal\n",
      "Dog\n",
      "Animal Index\n",
      "1\n",
      "Animal\n",
      "Tiger\n",
      "Animal Index\n",
      "2\n",
      "Animal\n",
      "SuperLion\n",
      "Animal Index\n",
      "3\n",
      "Animal\n",
      "Cow\n",
      "Animal Index\n",
      "4\n",
      "Animal\n",
      "Panda\n"
     ]
    }
   ],
   "source": [
    "for i, animal in enumerate(animals):\n",
    "    print(\"Animal Index\")  ## label\n",
    "    print(i)\n",
    "    print(\"Animal\") ## label\n",
    "    print(animal)"
   ]
  },
  {
   "cell_type": "markdown",
   "metadata": {},
   "source": [
    "## Here's a diagram of the Python logic that takes place when the code runs:\n",
    "#### Iteration1 i=0, animal=\"Dog\"\n",
    "#### Iteration2 i=1, animal=\"Tiger\"\n",
    "#### Iteration3 i=2, animal=\"SuperLion\"\n",
    "#### Iteration4 i=3, animal=\"Cow\"\n",
    "#### Iteration5 i=4, animal=\"Panda\"\n",
    "###### On every iteration of the loop, the value for i will become the value of the index in animals that corresponds to that iteration. animal will take on the value in animals that corresponds to the index i.\n",
    "\n",
    "###### Here's another example of how we can use the enumerate() function to iterate over multiple lists in tandem:"
   ]
  },
  {
   "cell_type": "code",
   "execution_count": 7,
   "metadata": {},
   "outputs": [
    {
     "name": "stdout",
     "output_type": "stream",
     "text": [
      "Animal\n",
      "Dog\n",
      "Viciousness\n",
      "1\n",
      "Animal\n",
      "Tiger\n",
      "Viciousness\n",
      "5\n",
      "Animal\n",
      "SuperLion\n",
      "Viciousness\n",
      "10\n",
      "Animal\n",
      "Cow\n",
      "Viciousness\n",
      "10\n",
      "Animal\n",
      "Panda\n",
      "Viciousness\n",
      "1\n"
     ]
    }
   ],
   "source": [
    "animals = [\"Dog\", \"Tiger\", \"SuperLion\", \"Cow\", \"Panda\"]\n",
    "viciousness = [1, 5, 10, 10, 1]\n",
    "\n",
    "for i, animal in enumerate(animals):\n",
    "    print(\"Animal\")\n",
    "    print(animal)\n",
    "    print(\"Viciousness\")\n",
    "    print(viciousness[i])"
   ]
  },
  {
   "cell_type": "markdown",
   "metadata": {},
   "source": [
    "In this example, we use the index variable i to index the viciousness list, and print the viciousness value that corresponds to the same index in animals."
   ]
  },
  {
   "cell_type": "markdown",
   "metadata": {},
   "source": [
    "#### Instructions\n",
    "\n",
    "##### Enumerate the ships list using a for loop and the enumerate() function.\n",
    "##### For each iteration of the loop:\n",
    "##### Print the item from ships at the current index.\n",
    "##### Print the item from cars at the current index."
   ]
  },
  {
   "cell_type": "code",
   "execution_count": 8,
   "metadata": {},
   "outputs": [],
   "source": [
    "# initial data for example\n",
    "ships = [\"Andrea Doria\", \"Titanic\", \"Lusitania\"]\n",
    "cars = [\"Ford Edsel\", \"Ford Pinto\", \"Yugo\"]"
   ]
  },
  {
   "cell_type": "code",
   "execution_count": 9,
   "metadata": {},
   "outputs": [
    {
     "name": "stdout",
     "output_type": "stream",
     "text": [
      "Andrea Doria Ford Edsel\n",
      "Titanic Ford Pinto\n",
      "Lusitania Yugo\n"
     ]
    }
   ],
   "source": [
    "for i, ships in enumerate(ships):\n",
    "    print(ships, cars[i])"
   ]
  },
  {
   "cell_type": "markdown",
   "metadata": {},
   "source": [
    "topic3 We can even use the enumerate() function to add columns to lists of lists. For example, here's some starter code:"
   ]
  },
  {
   "cell_type": "code",
   "execution_count": 11,
   "metadata": {},
   "outputs": [],
   "source": [
    "door_count = [4, 4]\n",
    "cars = [\n",
    "        [\"black\", \"honda\", \"accord\"],\n",
    "        [\"red\", \"toyota\", \"corolla\"]\n",
    "       ]"
   ]
  },
  {
   "cell_type": "markdown",
   "metadata": {},
   "source": [
    "title3 Adding Columns.\n",
    "We can add a column to cars by appending a value to each inner list:"
   ]
  },
  {
   "cell_type": "code",
   "execution_count": 12,
   "metadata": {},
   "outputs": [],
   "source": [
    "for i, car in enumerate(cars):\n",
    "    car.append(door_count[i])"
   ]
  },
  {
   "cell_type": "markdown",
   "metadata": {},
   "source": [
    "In the code above, we:\n",
    "\n",
    "Use the enumerate() function to loop across each item in cars.\n",
    "Find the corresponding value in door_count that has the index i (the same index as the current item in cars).\n",
    "Add the value in door_count with index i to car.\n",
    "After the code runs, each row in cars will have a door_count column.\n",
    "Let's reinforce what we've learned by completing an exercise."
   ]
  },
  {
   "cell_type": "markdown",
   "metadata": {},
   "source": [
    "Instructions\n",
    "\n",
    "Loop through each row in things using the enumerate() function.\n",
    "Append the item in trees that has the same index (as the current thing) to the end of each row in things.\n",
    "After the code runs, things should have an extra column."
   ]
  },
  {
   "cell_type": "code",
   "execution_count": 22,
   "metadata": {},
   "outputs": [],
   "source": [
    "#initial data\n",
    "things = [[\"apple\", \"monkey\"], [\"orange\", \"dog\"], [\"banana\", \"cat\"]]\n",
    "trees = [\"cedar\", \"maple\", \"fig\"]"
   ]
  },
  {
   "cell_type": "code",
   "execution_count": 23,
   "metadata": {},
   "outputs": [
    {
     "name": "stdout",
     "output_type": "stream",
     "text": [
      "[['apple', 'monkey', 'cedar'], ['orange', 'dog', 'maple'], ['banana', 'cat', 'fig']]\n"
     ]
    }
   ],
   "source": [
    "for i, thing in enumerate(things):\n",
    "    thing.append(trees[i])\n",
    "    \n",
    "print(things)"
   ]
  },
  {
   "cell_type": "markdown",
   "metadata": {},
   "source": [
    "#### 4. List Comprehensions.\n",
    "We've written many short for loops to manipulate lists. Here's an example:\n"
   ]
  },
  {
   "cell_type": "code",
   "execution_count": 25,
   "metadata": {},
   "outputs": [],
   "source": [
    "animals = [\"Dog\", \"Tiger\", \"SuperLion\", \"Cow\", \"Panda\"]\n",
    "\n",
    "animal_lengths = []\n",
    "for animal in animals:\n",
    "    animal_lengths.append(len(animal))"
   ]
  },
  {
   "cell_type": "markdown",
   "metadata": {},
   "source": [
    "It takes three lines to calculate the length of each string animals this way. However, we can condense this down to one line with a list comprehension:"
   ]
  },
  {
   "cell_type": "code",
   "execution_count": 44,
   "metadata": {},
   "outputs": [
    {
     "name": "stdout",
     "output_type": "stream",
     "text": [
      "[3, 5, 9, 3, 5]\n"
     ]
    }
   ],
   "source": [
    "animal_lengths = [len(animal) for animal in animals]\n",
    "print(animal_lengths)"
   ]
  },
  {
   "cell_type": "markdown",
   "metadata": {},
   "source": [
    "This comprehension consists of the list operation len(animal), the loop variable animal, and the list that we're iterating over, animals.\n",
    "\n",
    "The diagram below visualizes how a list comprehension condenses a for loop:"
   ]
  },
  {
   "cell_type": "markdown",
   "metadata": {},
   "source": [
    "<img src=\"pythonloop.png\">\n",
    "Logically, the list comprehension:\n",
    "\n",
    "Loops through each element in the animals list and assigns the current element to animal\n",
    "Finds the length of each animal string\n",
    "Generates a new list that contains all of the lengths as elements\n",
    "Assigns the new list to animal_lengths\n",
    "List comprehensions are much more compact notation, and can save space when you need to write multiple for loops.\n"
   ]
  },
  {
   "cell_type": "markdown",
   "metadata": {},
   "source": [
    "Instructions\n",
    "\n",
    "Use list comprehension to create a new list called apple_prices_doubled, where you multiply each item in apple_prices by 2.\n",
    "Use list comprehension to create a new list called apple_prices_lowered, where you subtract 100 from each item in apple_prices."
   ]
  },
  {
   "cell_type": "code",
   "execution_count": 33,
   "metadata": {},
   "outputs": [],
   "source": [
    "# initial data\n",
    "apple_prices = [100, 101, 102, 105]"
   ]
  },
  {
   "cell_type": "code",
   "execution_count": 60,
   "metadata": {},
   "outputs": [
    {
     "name": "stdout",
     "output_type": "stream",
     "text": [
      "[200, 202, 204, 210]\n",
      "[0, 1, 2, 5]\n"
     ]
    }
   ],
   "source": [
    "# your code here\n",
    "apple_prices_doubled = [apple_price*2 for apple_price in apple_prices]\n",
    "print(apple_prices_doubled)\n",
    "\n",
    "apple_prices_lowered = [(apple_price-100) for apple_price in apple_prices]\n",
    "print(apple_prices_lowered)"
   ]
  },
  {
   "cell_type": "markdown",
   "metadata": {},
   "source": [
    "### 5. Counting Female Names"
   ]
  },
  {
   "cell_type": "markdown",
   "metadata": {},
   "source": [
    "Let's count how many times each female first name occurs in legislators. To limit our count to names from the modern era, we'll only look at those that appear after 1940. While names like Theodorick were common prior to 1940, they're rare today.\n",
    "\n",
    "Here's a preview of what this dictionary will look like:"
   ]
  },
  {
   "cell_type": "code",
   "execution_count": 62,
   "metadata": {},
   "outputs": [],
   "source": [
    "#{\n",
    "#    'Nancy': 1, \n",
    "#    'Sandy': 1, \n",
    "#    'Carolyn': 1, \n",
    "#    'Melissa': 2, \n",
    "#    'Jo Ann': 2,\n",
    "#    ...\n",
    "#}"
   ]
  },
  {
   "cell_type": "markdown",
   "metadata": {},
   "source": [
    "Now, let's work on creating it!"
   ]
  },
  {
   "cell_type": "markdown",
   "metadata": {},
   "source": [
    "Instructions\n",
    "\n",
    "Create an empty dictionary called name_counts.\n",
    "Loop through each row in legislators.\n",
    "If the gender column of the row equals F and the year column is greater than 1940:\n",
    "Assign the first_name column of the row to the variable name.\n",
    "If name is in name_counts:\n",
    "Add 1 to the value associated with name in name_counts.\n",
    "If name isn't in name_counts:\n",
    "Set the value associated with name in name_counts to 1.\n",
    "When the loop finishes, name_counts should contain each unique name in the first_name column of legislators as a key, and the corresponding number of times it appeared as the value.\n"
   ]
  },
  {
   "cell_type": "code",
   "execution_count": 104,
   "metadata": {},
   "outputs": [
    {
     "data": {
      "text/plain": [
       "['last_name', 'first_name', 'birthday', 'gender', 'type', 'state', 'party']"
      ]
     },
     "execution_count": 104,
     "metadata": {},
     "output_type": "execute_result"
    }
   ],
   "source": [
    "import csv\n",
    "f = open(\"legislators.csv\", \"r\")\n",
    "csvreader = csv.reader(f)\n",
    "legislators = list(csvreader)\n",
    "header_legislators = legislators[0]\n",
    "legislators = legislators[1:]\n",
    "#['Bassett', 'Richard', '1745-04-02', 'M', 'sen', 'DE', 'Anti-Administration', 1745]\n",
    "header_legislators"
   ]
  },
  {
   "cell_type": "code",
   "execution_count": 94,
   "metadata": {},
   "outputs": [
    {
     "name": "stdout",
     "output_type": "stream",
     "text": [
      "{'', 'F', 'M'}\n"
     ]
    }
   ],
   "source": [
    "gender = []\n",
    "for item in legislators:\n",
    "    gender.append(item[3])\n",
    "\n",
    "gender = set(gender)\n",
    "print(gender)"
   ]
  },
  {
   "cell_type": "code",
   "execution_count": 95,
   "metadata": {},
   "outputs": [
    {
     "name": "stdout",
     "output_type": "stream",
     "text": [
      "{'', 'Progressive Republican', 'Independent Democrat', 'Readjuster', 'Constitutional Unionist', 'Liberal Republican', 'Unknown', 'Crawford Republican', 'Independent', 'Pro-Administration', 'Ind. Republican', 'Populist', 'Farmer-Labor', 'Anti-Administration', 'Liberty', 'Progressive', 'Ind. Democrat', 'Prohibitionist', 'Popular Democrat', 'States Rights', 'Nonpartisan', 'Free Silver', 'Ind. Whig', 'Democrat-Liberal', 'Anti Jacksonian', 'American', 'Anti Masonic', 'Law and Order', 'Republican', 'Anti Jackson', 'Readjuster Democrat', 'Republican-Conservative', 'Adams', 'Jackson Republican', 'Conservative', 'Nullifier', 'National Greenbacker', 'Jackson', 'Whig', 'Silver Republican', 'Anti-Jacksonian', 'Unionist', 'Federalist', 'Adams Democrat', 'Democratic Republican', 'Union', 'New Progressive', 'Ind. Republican-Democrat', 'Union Democrat', 'Unconditional Unionist', 'Coalitionist', 'Democrat', 'Union Labor', 'Conservative Republican', 'Socialist', 'Free Soil', 'American Labor', 'Anti-Lecompton Democrat', 'Jacksonian', 'Democratic and Union Labor'}\n",
      "[['Bassett', 'Richard', '1745-04-02', 'M', 'sen', 'DE', 'Anti-Administration'], ['Bland', 'Theodorick', '1742-03-21', '', 'rep', 'VA', ''], ['Burke', 'Aedanus', '1743-06-16', '', 'rep', 'SC', ''], ['Carroll', 'Daniel', '1730-07-22', 'M', 'rep', 'MD', ''], ['Clymer', 'George', '1739-03-16', 'M', 'rep', 'PA', ''], ['Contee', 'Benjamin', '', 'M', 'rep', 'MD', ''], ['Dalton', 'Tristram', '1738-05-28', '', 'sen', 'MA', 'Pro-Administration'], ['Elmer', 'Jonathan', '1745-11-29', 'M', 'sen', 'NJ', 'Pro-Administration'], ['Few', 'William', '1748-06-08', 'M', 'sen', 'GA', 'Anti-Administration'], ['Floyd', 'William', '1734-12-17', 'M', 'rep', 'NY', '']]\n"
     ]
    }
   ],
   "source": [
    "party = []\n",
    "for item in legislators:\n",
    "    party.append(item[6])\n",
    "\n",
    "party = set(party)\n",
    "print(party)\n",
    "\n",
    "print(legislators[0:10])"
   ]
  },
  {
   "cell_type": "code",
   "execution_count": 96,
   "metadata": {},
   "outputs": [
    {
     "name": "stdout",
     "output_type": "stream",
     "text": [
      "{'F', 'M'}\n"
     ]
    }
   ],
   "source": [
    "for row in legislators:\n",
    "    if row[3] == \"\":\n",
    "        row[3] = \"M\"\n",
    "\n",
    "gender = []\n",
    "for item in legislators:\n",
    "    gender.append(item[3])\n",
    "\n",
    "gender = set(gender)\n",
    "print(gender)"
   ]
  },
  {
   "cell_type": "code",
   "execution_count": 97,
   "metadata": {},
   "outputs": [
    {
     "name": "stdout",
     "output_type": "stream",
     "text": [
      "['1745', '1742', '1743', '1730', '1739', '', '1738', '1745', '1748', '1734']\n"
     ]
    }
   ],
   "source": [
    "\n",
    "birth_years = []\n",
    "for row in legislators:\n",
    "    birthday = row[2]\n",
    "    parts = birthday.split(\"-\")\n",
    "    birth_years.append(parts[0])\n",
    "print(birth_years[0:10])"
   ]
  },
  {
   "cell_type": "code",
   "execution_count": 98,
   "metadata": {},
   "outputs": [],
   "source": [
    "converted_years = []\n",
    "for year in birth_years:\n",
    "    try:\n",
    "        int_year = int(year)\n",
    "        converted_years.append(int_year)\n",
    "    except Exception:\n",
    "        pass"
   ]
  },
  {
   "cell_type": "code",
   "execution_count": 99,
   "metadata": {},
   "outputs": [
    {
     "name": "stdout",
     "output_type": "stream",
     "text": [
      "['1745', '1742', '1743', '1730', '1739', '', '1738', '1745', '1748', '1734']\n"
     ]
    }
   ],
   "source": [
    "for row in legislators:\n",
    "    birthday = row[2]\n",
    "    birth_year = birthday.split(\"-\")[0]\n",
    "    try:\n",
    "        birth_year = int(birth_year)\n",
    "    except Exception:\n",
    "        birth_year = 0\n",
    "    row.append(birth_year)\n",
    "print(birth_years[0:10])"
   ]
  },
  {
   "cell_type": "code",
   "execution_count": 100,
   "metadata": {},
   "outputs": [],
   "source": [
    "last_value = 1\n",
    "for row in legislators:\n",
    "    if row[7] == 0:\n",
    "        row[7] = last_value\n",
    "    last_value = row[7]"
   ]
  },
  {
   "cell_type": "code",
   "execution_count": 103,
   "metadata": {},
   "outputs": [
    {
     "data": {
      "text/plain": [
       "[['Bassett',\n",
       "  'Richard',\n",
       "  '1745-04-02',\n",
       "  'M',\n",
       "  'sen',\n",
       "  'DE',\n",
       "  'Anti-Administration',\n",
       "  1745],\n",
       " ['Bland', 'Theodorick', '1742-03-21', 'M', 'rep', 'VA', '', 1742],\n",
       " ['Burke', 'Aedanus', '1743-06-16', 'M', 'rep', 'SC', '', 1743],\n",
       " ['Carroll', 'Daniel', '1730-07-22', 'M', 'rep', 'MD', '', 1730],\n",
       " ['Clymer', 'George', '1739-03-16', 'M', 'rep', 'PA', '', 1739],\n",
       " ['Contee', 'Benjamin', '', 'M', 'rep', 'MD', '', 1739],\n",
       " ['Dalton',\n",
       "  'Tristram',\n",
       "  '1738-05-28',\n",
       "  'M',\n",
       "  'sen',\n",
       "  'MA',\n",
       "  'Pro-Administration',\n",
       "  1738],\n",
       " ['Elmer',\n",
       "  'Jonathan',\n",
       "  '1745-11-29',\n",
       "  'M',\n",
       "  'sen',\n",
       "  'NJ',\n",
       "  'Pro-Administration',\n",
       "  1745],\n",
       " ['Few',\n",
       "  'William',\n",
       "  '1748-06-08',\n",
       "  'M',\n",
       "  'sen',\n",
       "  'GA',\n",
       "  'Anti-Administration',\n",
       "  1748],\n",
       " ['Floyd', 'William', '1734-12-17', 'M', 'rep', 'NY', '', 1734]]"
      ]
     },
     "execution_count": 103,
     "metadata": {},
     "output_type": "execute_result"
    }
   ],
   "source": [
    "legislators[0:10]"
   ]
  },
  {
   "cell_type": "code",
   "execution_count": 107,
   "metadata": {},
   "outputs": [
    {
     "ename": "IndexError",
     "evalue": "list index out of range",
     "output_type": "error",
     "traceback": [
      "\u001b[0;31m---------------------------------------------------------------------------\u001b[0m",
      "\u001b[0;31mIndexError\u001b[0m                                Traceback (most recent call last)",
      "\u001b[0;32m<ipython-input-107-1acbf01d6679>\u001b[0m in \u001b[0;36m<module>\u001b[0;34m()\u001b[0m\n\u001b[1;32m      2\u001b[0m \u001b[0;31m#print(legislators[0:2])\u001b[0m\u001b[0;34m\u001b[0m\u001b[0;34m\u001b[0m\u001b[0m\n\u001b[1;32m      3\u001b[0m \u001b[0;32mfor\u001b[0m \u001b[0mlegislator\u001b[0m \u001b[0;32min\u001b[0m \u001b[0mlegislators\u001b[0m\u001b[0;34m:\u001b[0m\u001b[0;34m\u001b[0m\u001b[0m\n\u001b[0;32m----> 4\u001b[0;31m     \u001b[0;32mif\u001b[0m \u001b[0mlegislator\u001b[0m\u001b[0;34m[\u001b[0m\u001b[0;36m3\u001b[0m\u001b[0;34m]\u001b[0m \u001b[0;34m==\u001b[0m \u001b[0;34m'F'\u001b[0m \u001b[0;32mand\u001b[0m \u001b[0mlegislator\u001b[0m\u001b[0;34m[\u001b[0m\u001b[0;36m7\u001b[0m\u001b[0;34m]\u001b[0m \u001b[0;34m>\u001b[0m \u001b[0;36m1940\u001b[0m\u001b[0;34m:\u001b[0m\u001b[0;34m\u001b[0m\u001b[0m\n\u001b[0m\u001b[1;32m      5\u001b[0m         \u001b[0mname\u001b[0m \u001b[0;34m=\u001b[0m \u001b[0mlegislator\u001b[0m\u001b[0;34m[\u001b[0m\u001b[0;36m1\u001b[0m\u001b[0;34m]\u001b[0m\u001b[0;34m\u001b[0m\u001b[0m\n\u001b[1;32m      6\u001b[0m         \u001b[0;32mif\u001b[0m \u001b[0mname\u001b[0m \u001b[0;32min\u001b[0m \u001b[0mname_counts\u001b[0m\u001b[0;34m:\u001b[0m\u001b[0;34m\u001b[0m\u001b[0m\n",
      "\u001b[0;31mIndexError\u001b[0m: list index out of range"
     ]
    }
   ],
   "source": [
    "name_counts = {}\n",
    "#print(legislators[0:2])\n",
    "for legislator in legislators:\n",
    "    if legislator[3] == 'F' and legislator[7] > 1940:\n",
    "        name = legislator[1]\n",
    "        if name in name_counts:\n",
    "            name_counts[name] = name_counts[name] + 1\n",
    "        else:\n",
    "            name_counts[name] = 1\n",
    "print(name_counts)"
   ]
  },
  {
   "cell_type": "code",
   "execution_count": null,
   "metadata": {},
   "outputs": [],
   "source": []
  }
 ],
 "metadata": {
  "kernelspec": {
   "display_name": "Python 3",
   "language": "python",
   "name": "python3"
  },
  "language_info": {
   "codemirror_mode": {
    "name": "ipython",
    "version": 3
   },
   "file_extension": ".py",
   "mimetype": "text/x-python",
   "name": "python",
   "nbconvert_exporter": "python",
   "pygments_lexer": "ipython3",
   "version": "3.6.4"
  }
 },
 "nbformat": 4,
 "nbformat_minor": 2
}
