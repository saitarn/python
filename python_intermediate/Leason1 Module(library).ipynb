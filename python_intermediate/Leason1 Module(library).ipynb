{
 "cells": [
  {
   "cell_type": "code",
   "execution_count": 2,
   "metadata": {},
   "outputs": [
    {
     "name": "stdout",
     "output_type": "stream",
     "text": [
      "9.9498743710662\n",
      "89\n"
     ]
    }
   ],
   "source": [
    "import math\n",
    "root = math.sqrt(99)\n",
    "flr = math.floor(89.9)\n",
    "print(root)\n",
    "print(flr)"
   ]
  },
  {
   "cell_type": "code",
   "execution_count": 4,
   "metadata": {},
   "outputs": [
    {
     "data": {
      "text/plain": [
       "5.744562646538029"
      ]
     },
     "execution_count": 4,
     "metadata": {},
     "output_type": "execute_result"
    }
   ],
   "source": [
    "# import as alias name\n",
    "import math as m\n",
    "root = m.sqrt(33)\n",
    "root"
   ]
  },
  {
   "cell_type": "markdown",
   "metadata": {},
   "source": [
    "# Import all of the functions from math.\n",
    "# Use the sqrt() function from the math module to compute the square root of 1001. Assign the result to root."
   ]
  },
  {
   "cell_type": "code",
   "execution_count": 7,
   "metadata": {},
   "outputs": [
    {
     "name": "stdout",
     "output_type": "stream",
     "text": [
      "31.78049716414141\n"
     ]
    }
   ],
   "source": [
    "from math import *\n",
    "\n",
    "root = sqrt(1010)\n",
    "print(root)"
   ]
  },
  {
   "cell_type": "markdown",
   "metadata": {},
   "source": [
    "# PI"
   ]
  },
  {
   "cell_type": "code",
   "execution_count": 10,
   "metadata": {},
   "outputs": [
    {
     "name": "stdout",
     "output_type": "stream",
     "text": [
      "3.141592653589793\n",
      "1.7724538509055159 and 4 and 3\n"
     ]
    }
   ],
   "source": [
    "print(math.pi)\n",
    "a = math.sqrt(math.pi)\n",
    "b = math.ceil(math.pi)\n",
    "c = math.floor(math.pi)\n",
    "print(a,\"and\" ,b, \"and\", c)"
   ]
  },
  {
   "cell_type": "code",
   "execution_count": 12,
   "metadata": {},
   "outputs": [],
   "source": [
    "import csv\n",
    "f = open(\"nfl.csv\", 'r')\n",
    "csvreader = csv.reader(f)\n",
    "nfl = list(csvreader)"
   ]
  },
  {
   "cell_type": "code",
   "execution_count": 14,
   "metadata": {},
   "outputs": [
    {
     "data": {
      "text/plain": [
       "61"
      ]
     },
     "execution_count": 14,
     "metadata": {},
     "output_type": "execute_result"
    }
   ],
   "source": [
    "\n",
    "# Loop through the list of rows, each time \"New England Patriots\" is found\n",
    "# in the third column (index value of 2), increase `patriots_wins` by 1\n",
    "#Count the number of times the New England Patriots won.\n",
    "patriots_wins = 0\n",
    "for row in nfl:\n",
    "    if row[2] == \"New England Patriots\":\n",
    "        patriots_wins += 1\n",
    "patriots_wins"
   ]
  },
  {
   "cell_type": "code",
   "execution_count": 16,
   "metadata": {},
   "outputs": [
    {
     "name": "stdout",
     "output_type": "stream",
     "text": [
      "41\n",
      "49\n"
     ]
    }
   ],
   "source": [
    "# Define your function here.\n",
    "def nfl_wins(team):\n",
    "    count = 0\n",
    "    for row in nfl:\n",
    "        if row[2] == team:\n",
    "            count = count + 1\n",
    "    return count\n",
    "\n",
    "cowboys_wins = nfl_wins(\"Dallas Cowboys\")\n",
    "falcons_wins = nfl_wins(\"Atlanta Falcons\")\n",
    "print(cowboys_wins)\n",
    "print(falcons_wins)"
   ]
  },
  {
   "cell_type": "code",
   "execution_count": null,
   "metadata": {},
   "outputs": [],
   "source": []
  }
 ],
 "metadata": {
  "kernelspec": {
   "display_name": "Python 3",
   "language": "python",
   "name": "python3"
  },
  "language_info": {
   "codemirror_mode": {
    "name": "ipython",
    "version": 3
   },
   "file_extension": ".py",
   "mimetype": "text/x-python",
   "name": "python",
   "nbconvert_exporter": "python",
   "pygments_lexer": "ipython3",
   "version": "3.6.4"
  }
 },
 "nbformat": 4,
 "nbformat_minor": 2
}
