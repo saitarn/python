{
 "cells": [
  {
   "cell_type": "markdown",
   "metadata": {},
   "source": [
    "# Print output to console"
   ]
  },
  {
   "cell_type": "code",
   "execution_count": 28,
   "metadata": {},
   "outputs": [
    {
     "name": "stdout",
     "output_type": "stream",
     "text": [
      "1288\n",
      "639\n",
      "1927\n"
     ]
    }
   ],
   "source": [
    "print(1288)\n",
    "print(639)\n",
    "print(1288 + 639)"
   ]
  },
  {
   "cell_type": "markdown",
   "metadata": {},
   "source": [
    "# show data type"
   ]
  },
  {
   "cell_type": "code",
   "execution_count": 29,
   "metadata": {},
   "outputs": [
    {
     "name": "stdout",
     "output_type": "stream",
     "text": [
      "<class 'str'>\n"
     ]
    }
   ],
   "source": [
    "atlanta_string = \"Atlanta\"\n",
    "print(type(atlanta_string))"
   ]
  },
  {
   "cell_type": "markdown",
   "metadata": {},
   "source": [
    "# Data type \"list\" and append method\n",
    "# list.append()"
   ]
  },
  {
   "cell_type": "code",
   "execution_count": 30,
   "metadata": {},
   "outputs": [
    {
     "name": "stdout",
     "output_type": "stream",
     "text": [
      "['Albuquerque', 'Anaheim']\n"
     ]
    }
   ],
   "source": [
    "cities = []\n",
    "cities.append(\"Albuquerque\")\n",
    "cities.append(\"Anaheim\")\n",
    "print(cities)"
   ]
  },
  {
   "cell_type": "markdown",
   "metadata": {},
   "source": [
    "# retrieve data in list"
   ]
  },
  {
   "cell_type": "code",
   "execution_count": 31,
   "metadata": {},
   "outputs": [
    {
     "name": "stdout",
     "output_type": "stream",
     "text": [
      "Anchorage\n",
      "828\n"
     ]
    }
   ],
   "source": [
    "cities = [\"Albuquerque\", \"Anaheim\", \"Anchorage\", \"Arlington\", \"Atlanta\"]\n",
    "crime_rates = [749, 371, 828, 503, 1379]\n",
    "anchorage_str = cities[2]\n",
    "anchorage_cr = crime_rates[2]\n",
    "print(anchorage_str)\n",
    "print(anchorage_cr)"
   ]
  },
  {
   "cell_type": "markdown",
   "metadata": {},
   "source": [
    "# List Length"
   ]
  },
  {
   "cell_type": "code",
   "execution_count": 32,
   "metadata": {},
   "outputs": [
    {
     "name": "stdout",
     "output_type": "stream",
     "text": [
      "10\n"
     ]
    }
   ],
   "source": [
    "cities = [\"Albuquerque\", \"Anaheim\", \"Anchorage\", \"Arlington\", \"Atlanta\"]\n",
    "crime_rates = [749, 371, 828, 503, 1379]\n",
    "# Add your code here.\n",
    "two_sum = len(cities) + len(crime_rates)\n",
    "print(two_sum)"
   ]
  },
  {
   "cell_type": "markdown",
   "metadata": {},
   "source": [
    "# Slicing Lists"
   ]
  },
  {
   "cell_type": "code",
   "execution_count": 33,
   "metadata": {},
   "outputs": [
    {
     "name": "stdout",
     "output_type": "stream",
     "text": [
      "[828, 503]\n"
     ]
    }
   ],
   "source": [
    "crime_rates = [749, 371, 828, 503, 1379]\n",
    "# The following slice selects values at index 2 and 3, but not 4.\n",
    "two_four = crime_rates[2:4]\n",
    "print(two_four)"
   ]
  },
  {
   "cell_type": "code",
   "execution_count": 34,
   "metadata": {},
   "outputs": [
    {
     "name": "stdout",
     "output_type": "stream",
     "text": [
      "[828, 503, 1379]\n"
     ]
    }
   ],
   "source": [
    "# Values at index 2, 3, 4.\n",
    "ending_index = len(crime_rates)\n",
    "two_to_end = crime_rates[2:ending_index]\n",
    "print(two_to_end)"
   ]
  },
  {
   "cell_type": "code",
   "execution_count": 35,
   "metadata": {},
   "outputs": [
    {
     "name": "stdout",
     "output_type": "stream",
     "text": [
      "['Anaheim', 'Anchorage', 'Arlington']\n",
      "[503, 1379]\n"
     ]
    }
   ],
   "source": [
    "cities = [\"Albuquerque\", \"Anaheim\", \"Anchorage\", \"Arlington\", \"Atlanta\"]\n",
    "crime_rates = [749, 371, 828, 503, 1379]\n",
    "\n",
    "#second, third, and fourth elements\n",
    "cities_slice = cities[1:4]\n",
    "\n",
    "#last two elements\n",
    "cr_slice = crime_rates[-2:]\n",
    "print(cities_slice)\n",
    "print(cr_slice)"
   ]
  },
  {
   "cell_type": "code",
   "execution_count": null,
   "metadata": {},
   "outputs": [],
   "source": []
  }
 ],
 "metadata": {
  "kernelspec": {
   "display_name": "Python 3",
   "language": "python",
   "name": "python3"
  },
  "language_info": {
   "codemirror_mode": {
    "name": "ipython",
    "version": 3
   },
   "file_extension": ".py",
   "mimetype": "text/x-python",
   "name": "python",
   "nbconvert_exporter": "python",
   "pygments_lexer": "ipython3",
   "version": "3.6.4"
  }
 },
 "nbformat": 4,
 "nbformat_minor": 2
}
