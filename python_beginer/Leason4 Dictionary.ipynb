{
 "cells": [
  {
   "cell_type": "code",
   "execution_count": 18,
   "metadata": {},
   "outputs": [
    {
     "name": "stdout",
     "output_type": "stream",
     "text": [
      "365\n",
      "Sunny\n",
      "Fog\n"
     ]
    }
   ],
   "source": [
    "f = open('la_weather.csv', 'r')\n",
    "data = f.read()\n",
    "rows = data.split('\\n')\n",
    "final_data = []\n",
    "weather = []\n",
    "for row in rows:\n",
    "    row_split = row.split(',')\n",
    "    final_data.append(row_split)\n",
    "    weather.append(row_split[1])\n",
    "    \n",
    "#print(final_data)\n",
    "#print(weather)\n",
    "weather = weather[1:]\n",
    "print(len(weather))\n",
    "print(weather[0])\n",
    "print(weather[364])"
   ]
  },
  {
   "cell_type": "markdown",
   "metadata": {},
   "source": [
    "# defind dictionary variable students = {}"
   ]
  },
  {
   "cell_type": "code",
   "execution_count": 21,
   "metadata": {},
   "outputs": [
    {
     "name": "stdout",
     "output_type": "stream",
     "text": [
      "{'Aquaman': 1, 'Superman': 2}\n",
      "<class 'dict'>\n"
     ]
    }
   ],
   "source": [
    "superhero_ranks = {}\n",
    "superhero_ranks[\"Aquaman\"] = 1\n",
    "superhero_ranks[\"Superman\"] = 2\n",
    "print(superhero_ranks)\n",
    "print(type(superhero_ranks))"
   ]
  },
  {
   "cell_type": "code",
   "execution_count": 24,
   "metadata": {},
   "outputs": [
    {
     "name": "stdout",
     "output_type": "stream",
     "text": [
      "{'Tom': 80, 'Jim': 75, 'Ann': 85}\n"
     ]
    }
   ],
   "source": [
    "#example\n",
    "students = {\n",
    "    \"Tom\": 60,\n",
    "    \"Jim\": 70\n",
    "}\n",
    "students[\"Ann\"] = 85\n",
    "students[\"Tom\"] = 80\n",
    "students[\"Jim\"] = students[\"Jim\"] + 5\n",
    "print(students)"
   ]
  },
  {
   "cell_type": "markdown",
   "metadata": {},
   "source": [
    "# Example\n",
    "#### students = {\n",
    "####    \"Tom\": 60,\n",
    "####    \"Jim\": 70\n",
    "#### }\n",
    "#### >>found = \"Tom\" in students\n",
    "#### \"Tom\" in students would return True, and \"Sue\" in students would return in False."
   ]
  },
  {
   "cell_type": "code",
   "execution_count": 28,
   "metadata": {},
   "outputs": [
    {
     "name": "stdout",
     "output_type": "stream",
     "text": [
      "False\n",
      "True\n"
     ]
    }
   ],
   "source": [
    "planet_numbers = {\"mercury\": 1, \"venus\": 2, \"earth\": 3, \"mars\": 4}\n",
    "jupiter_found = \"jupiter\" in planet_numbers\n",
    "earth_found = \"earth\" in planet_numbers\n",
    "\n",
    "print(jupiter_found)\n",
    "print(earth_found)"
   ]
  },
  {
   "cell_type": "markdown",
   "metadata": {},
   "source": [
    "# user if/else statement to check data in list and saperate list follow condition\n",
    "##### scores = [80, 100, 60, 30]\n",
    "##### high_scores = []\n",
    "##### low_scores = []\n",
    "##### for score in scores:\n",
    "#####    if score > 70:\n",
    "#####        high_scores.append(score)\n",
    "#####    else:\n",
    "#####        low_scores.append(score)"
   ]
  },
  {
   "cell_type": "markdown",
   "metadata": {},
   "source": [
    "### Append any names in planet_names that are longer than 5 characters to long_names. Otherwise, append the names to short_names. To accomplish this:"
   ]
  },
  {
   "cell_type": "code",
   "execution_count": 32,
   "metadata": {},
   "outputs": [
    {
     "name": "stdout",
     "output_type": "stream",
     "text": [
      "['Venus', 'Earth', 'Mars']\n",
      "['Mercury', 'Jupiter', 'Saturn', 'Neptune', 'Uranus']\n"
     ]
    }
   ],
   "source": [
    "planet_names = [\"Mercury\", \"Venus\", \"Earth\", \"Mars\", \"Jupiter\", \"Saturn\", \"Neptune\", \"Uranus\"]\n",
    "short_names = []\n",
    "long_names = []\n",
    "\n",
    "for planet in planet_names:\n",
    "    if len(planet) > 5:\n",
    "        long_names.append(planet)\n",
    "    else:\n",
    "        short_names.append(planet)\n",
    "        \n",
    "print(short_names)\n",
    "print(long_names)"
   ]
  },
  {
   "cell_type": "markdown",
   "metadata": {},
   "source": [
    "# Example create dictionary from list (sumation of each item)\n"
   ]
  },
  {
   "cell_type": "code",
   "execution_count": 33,
   "metadata": {},
   "outputs": [
    {
     "name": "stdout",
     "output_type": "stream",
     "text": [
      "{'apple': 3, 'orange': 2, 'grape': 2, 'tomato': 1, 'potato': 1}\n"
     ]
    }
   ],
   "source": [
    "pantry = [\"apple\", \"orange\", \"grape\", \"apple\", \"orange\", \"apple\", \"tomato\", \"potato\", \"grape\"]\n",
    "pantry_counts = {}\n",
    "\n",
    "for item in pantry:\n",
    "    if item in pantry_counts:\n",
    "        pantry_counts[item] = pantry_counts[item] + 1\n",
    "    else:\n",
    "        pantry_counts[item] = 1\n",
    "\n",
    "print(pantry_counts)"
   ]
  },
  {
   "cell_type": "markdown",
   "metadata": {},
   "source": [
    "# From weather, create dictionary and count weater"
   ]
  },
  {
   "cell_type": "code",
   "execution_count": 38,
   "metadata": {},
   "outputs": [
    {
     "name": "stdout",
     "output_type": "stream",
     "text": [
      "{'Sunny': 210, 'Rain': 25, 'Fog': 125, 'Fog-Rain': 4, 'Thunderstorm': 1}\n"
     ]
    }
   ],
   "source": [
    "# define dictionary\n",
    "weather_count = {}\n",
    "for each_weather in weather:\n",
    "    if each_weather in weather_count:\n",
    "        weather_count[each_weather] = weather_count[each_weather] + 1\n",
    "    else:\n",
    "        weather_count[each_weather] = 1\n",
    "print(weather_count)"
   ]
  },
  {
   "cell_type": "code",
   "execution_count": null,
   "metadata": {},
   "outputs": [],
   "source": []
  }
 ],
 "metadata": {
  "kernelspec": {
   "display_name": "Python 3",
   "language": "python",
   "name": "python3"
  },
  "language_info": {
   "codemirror_mode": {
    "name": "ipython",
    "version": 3
   },
   "file_extension": ".py",
   "mimetype": "text/x-python",
   "name": "python",
   "nbconvert_exporter": "python",
   "pygments_lexer": "ipython3",
   "version": "3.6.4"
  }
 },
 "nbformat": 4,
 "nbformat_minor": 2
}
