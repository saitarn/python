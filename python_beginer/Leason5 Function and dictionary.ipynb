{
 "cells": [
  {
   "cell_type": "markdown",
   "metadata": {},
   "source": [
    "# Load data from file"
   ]
  },
  {
   "cell_type": "code",
   "execution_count": 17,
   "metadata": {},
   "outputs": [
    {
     "name": "stdout",
     "output_type": "stream",
     "text": [
      "[['movie_title', 'director_name', 'color', 'duration', 'actor_1_name', 'language', 'country', 'title_year'], ['Avatar', 'James Cameron', 'Color', '178', 'CCH Pounder', 'English', 'USA', '2009'], [\"Pirates of the Caribbean: At World's End\", 'Gore Verbinski', 'Color', '169', 'Johnny Depp', 'English', 'USA', '2007'], ['Spectre', 'Sam Mendes', 'Color', '148', 'Christoph Waltz', 'English', 'UK', '2015'], ['The Dark Knight Rises', 'Christopher Nolan', 'Color', '164', 'Tom Hardy', 'English', 'USA', '2012']]\n"
     ]
    }
   ],
   "source": [
    "f = open('movie_metadata.csv', 'r')\n",
    "data = f.read()\n",
    "rows = data.split('\\n')\n",
    "movie_data = []\n",
    "\n",
    "for row in rows:\n",
    "    row_split = row.split(',')\n",
    "    movie_data.append(row_split)\n",
    "\n",
    "print(movie_data[0:5])"
   ]
  },
  {
   "cell_type": "markdown",
   "metadata": {},
   "source": [
    "# Define function first_etls() to collect only movie name and return to movie_names"
   ]
  },
  {
   "cell_type": "code",
   "execution_count": 18,
   "metadata": {},
   "outputs": [
    {
     "name": "stdout",
     "output_type": "stream",
     "text": [
      "['movie_title', 'Avatar', \"Pirates of the Caribbean: At World's End\", 'Spectre', 'The Dark Knight Rises']\n"
     ]
    }
   ],
   "source": [
    "def first_elts():\n",
    "    data_set = []\n",
    "    for row in movie_data:\n",
    "        data_set.append(row[0])\n",
    "        \n",
    "    return data_set\n",
    "\n",
    "movie_names = first_elts()\n",
    "print(movie_names[0:5])"
   ]
  },
  {
   "cell_type": "markdown",
   "metadata": {},
   "source": [
    "# example function retunr ture or false "
   ]
  },
  {
   "cell_type": "code",
   "execution_count": 20,
   "metadata": {},
   "outputs": [
    {
     "name": "stdout",
     "output_type": "stream",
     "text": [
      "['Wonder Woman', 'Patty Jenkins', 'Color', 141, 'Gal Gadot', 'English', 'USA', 2017]\n",
      "True\n"
     ]
    }
   ],
   "source": [
    "wonder_woman = ['Wonder Woman','Patty Jenkins','Color',141,'Gal Gadot','English','USA',2017]\n",
    "\n",
    "def is_usa():\n",
    "    print(wonder_woman)\n",
    "    if wonder_woman[6] == \"USA\":\n",
    "        return True\n",
    "    else:\n",
    "        return False\n",
    "    \n",
    "wonder_woman_usa = is_usa()\n",
    "print(wonder_woman_usa)"
   ]
  },
  {
   "cell_type": "code",
   "execution_count": 22,
   "metadata": {},
   "outputs": [
    {
     "name": "stdout",
     "output_type": "stream",
     "text": [
      "False\n"
     ]
    }
   ],
   "source": [
    "def index_equals_str(movie_list, movie_list_index, mystr):\n",
    "    if movie_list[movie_list_index] == mystr:\n",
    "        return True\n",
    "    else:\n",
    "        return False\n",
    "\n",
    "wonder_woman_in_color = index_equals_str(wonder_woman, 3, \"Color\")\n",
    "print(wonder_woman_in_color)"
   ]
  },
  {
   "cell_type": "code",
   "execution_count": 23,
   "metadata": {},
   "outputs": [
    {
     "name": "stdout",
     "output_type": "stream",
     "text": [
      "3732\n"
     ]
    }
   ],
   "source": [
    "def feature_counter(input_lst,index,input_str):\n",
    "    num_of_us_movies = 0\n",
    "    \n",
    "    for each in input_lst:\n",
    "        if each[index] == input_str:\n",
    "            num_of_us_movies = num_of_us_movies + 1\n",
    "    \n",
    "    return  num_of_us_movies\n",
    "\n",
    "num_of_us_movies = feature_counter(movie_data,6,\"USA\")\n",
    "print(num_of_us_movies)"
   ]
  },
  {
   "cell_type": "markdown",
   "metadata": {},
   "source": [
    "# Create dictionary of summary movies"
   ]
  },
  {
   "cell_type": "code",
   "execution_count": 25,
   "metadata": {},
   "outputs": [
    {
     "name": "stdout",
     "output_type": "stream",
     "text": [
      "22\n",
      "4714\n",
      "4611\n",
      "{'japan_films': 0, 'color_films': 0, 'films_in_english': 0}\n",
      "{'japan_films': 22, 'color_films': 4714, 'films_in_english': 4611}\n"
     ]
    }
   ],
   "source": [
    "#[\n",
    "#['movie_title', 'director_name', 'color', 'duration', 'actor_1_name', 'language', 'country', 'title_year'], \n",
    "#['Avatar', 'James Cameron', 'Color', '178', 'CCH Pounder', 'English', 'USA', '2009'], [\"Pirates of the Caribbean: At World's End\", 'Gore Verbinski', 'Color', '169', 'Johnny Depp', 'English', 'USA', '2007'], ['Spectre', 'Sam Mendes', 'Color', '148', 'Christoph Waltz', 'English', 'UK', '2015'], ['The Dark Knight Rises', 'Christopher Nolan', 'Color', '164', 'Tom Hardy', 'English', 'USA', '2012']]\n",
    "def feature_counter(input_lst,index, input_str, header_row = False):\n",
    "    num_elt = 0\n",
    "    if header_row == True:\n",
    "        input_lst = input_lst[1:len(input_lst)]\n",
    "    for each in input_lst:\n",
    "        if each[index] == input_str:\n",
    "            num_elt = num_elt + 1\n",
    "    return num_elt\n",
    "\n",
    "#num_japan_films = [6]\n",
    "#num_color_films = [2]\n",
    "#num_films_in_english = [5]\n",
    "def summary_statistics(my_input_lst):\n",
    "    summary_dict = {\"japan_films\":0, \"color_films\":0, \"films_in_english\":0}\n",
    "    num_japan_films = feature_counter(my_input_lst, 6, \"Japan\",True)\n",
    "    num_color_films = feature_counter(my_input_lst, 2, \"Color\",True)\n",
    "    num_films_in_english = feature_counter(my_input_lst, 5, \"English\",True)\n",
    "    print(num_japan_films)\n",
    "    print(num_color_films)\n",
    "    print(num_films_in_english)\n",
    "    print(summary_dict)\n",
    "    summary_dict[\"japan_films\"] = num_japan_films\n",
    "    summary_dict[\"color_films\"] = num_color_films\n",
    "    summary_dict[\"films_in_english\"] = num_films_in_english\n",
    "    return summary_dict\n",
    "\n",
    "    \n",
    "summary = summary_statistics(movie_data)\n",
    "print(summary)"
   ]
  },
  {
   "cell_type": "code",
   "execution_count": null,
   "metadata": {},
   "outputs": [],
   "source": []
  }
 ],
 "metadata": {
  "kernelspec": {
   "display_name": "Python 3",
   "language": "python",
   "name": "python3"
  },
  "language_info": {
   "codemirror_mode": {
    "name": "ipython",
    "version": 3
   },
   "file_extension": ".py",
   "mimetype": "text/x-python",
   "name": "python",
   "nbconvert_exporter": "python",
   "pygments_lexer": "ipython3",
   "version": "3.6.4"
  }
 },
 "nbformat": 4,
 "nbformat_minor": 2
}
