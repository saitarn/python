{
 "cells": [
  {
   "cell_type": "markdown",
   "metadata": {},
   "source": [
    "# Open file\n",
    "# use \"r\", the mode for reading in files"
   ]
  },
  {
   "cell_type": "code",
   "execution_count": 2,
   "metadata": {},
   "outputs": [
    {
     "name": "stdout",
     "output_type": "stream",
     "text": [
      "<_io.TextIOWrapper name='crime_rates.csv' mode='r' encoding='UTF-8'>\n"
     ]
    }
   ],
   "source": [
    "f = open(\"crime_rates.csv\", \"r\")\n",
    "print(f)"
   ]
  },
  {
   "cell_type": "code",
   "execution_count": 7,
   "metadata": {},
   "outputs": [
    {
     "name": "stdout",
     "output_type": "stream",
     "text": [
      "['john', 'plastic', 'joe']\n",
      "<class 'list'>\n"
     ]
    }
   ],
   "source": [
    "# We can split a string into a list.\n",
    "sample = \"john,plastic,joe\"\n",
    "split_list = sample.split(\",\")\n",
    "print(split_list)\n",
    "print(type(split_list))"
   ]
  },
  {
   "cell_type": "code",
   "execution_count": 8,
   "metadata": {},
   "outputs": [
    {
     "name": "stdout",
     "output_type": "stream",
     "text": [
      "['How much wood', 'can a woodchuck chuck', 'if a woodchuck', 'could chuck wood?']\n"
     ]
    }
   ],
   "source": [
    "# Here's another example.\n",
    "string_two = \"How much wood\\ncan a woodchuck chuck\\nif a woodchuck\\ncould chuck wood?\"\n",
    "split_string_two = string_two.split('\\n')\n",
    "print(split_string_two)"
   ]
  },
  {
   "cell_type": "code",
   "execution_count": 15,
   "metadata": {},
   "outputs": [
    {
     "name": "stdout",
     "output_type": "stream",
     "text": [
      "Albuquerque,749\n",
      "Anaheim,371\n",
      "Anchorage,828\n",
      "Arlington,503\n",
      "Atlanta,1379\n",
      "Aurora,425\n",
      "Austin,408\n",
      "Bakersfie\n",
      "['Albuquerque,749', 'Anaheim,371', 'Anchorage,828', 'Arlington,503', 'Atlanta,1379']\n"
     ]
    }
   ],
   "source": [
    "# Code from previous cells\n",
    "f = open('crime_rates.csv', 'r')\n",
    "data = f.read()\n",
    "print(data[0:100])\n",
    "#print first 100 character of data (eachline of data contain \\n)\n",
    "\n",
    "rows = data.split('\\n')\n",
    "print(rows[0:5])"
   ]
  },
  {
   "cell_type": "markdown",
   "metadata": {},
   "source": [
    "# Loop"
   ]
  },
  {
   "cell_type": "code",
   "execution_count": 18,
   "metadata": {},
   "outputs": [
    {
     "name": "stdout",
     "output_type": "stream",
     "text": [
      "<class 'list'>\n",
      "Albuquerque,749\n",
      "Anaheim,371\n",
      "Anchorage,828\n",
      "Arlington,503\n",
      "Atlanta,1379\n",
      "Aurora,425\n",
      "Austin,408\n",
      "Bakersfield,542\n",
      "Baltimore,1405\n",
      "Boston,835\n"
     ]
    }
   ],
   "source": [
    "ten_rows = rows[0:10]\n",
    "print(type(ten_rows))\n",
    "for row in ten_rows:\n",
    "    print(row)"
   ]
  },
  {
   "cell_type": "markdown",
   "metadata": {},
   "source": [
    "# Experiment"
   ]
  },
  {
   "cell_type": "code",
   "execution_count": 40,
   "metadata": {},
   "outputs": [
    {
     "name": "stdout",
     "output_type": "stream",
     "text": [
      "Albuquerque,749\n",
      "size of three_rows = 3\n",
      "<class 'list'>\n",
      "type of row =  <class 'str'>\n",
      "length of row = 15\n",
      "type of row =  <class 'str'>\n",
      "length of row = 11\n",
      "type of row =  <class 'str'>\n",
      "length of row = 13\n",
      "size of final_list = 3\n",
      "<class 'list'>\n",
      "[['Albuquerque', '749'], ['Anaheim', '371'], ['Anchorage', '828']]\n",
      "['Albuquerque', '749']\n",
      "['Anaheim', '371']\n",
      "['Anchorage', '828']\n"
     ]
    }
   ],
   "source": [
    "three_rows = [\"Albuquerque,749\", \"Anaheim,371\", \"Anchorage,828\"]\n",
    "print(three_rows[0])\n",
    "print(\"size of three_rows =\",len(three_rows))\n",
    "print(type(three_rows))\n",
    "final_list = []\n",
    "for row in three_rows:\n",
    "    print(\"type of row = \",type(row))\n",
    "    print(\"length of row =\",len(row))\n",
    "    split_list = row.split(',')\n",
    "    final_list.append(split_list)\n",
    "    \n",
    "print(\"size of final_list =\",len(final_list))\n",
    "print(type(three_rows))\n",
    "print(final_list)\n",
    "print(final_list[0])\n",
    "print(final_list[1])\n",
    "print(final_list[2])\n"
   ]
  },
  {
   "cell_type": "code",
   "execution_count": null,
   "metadata": {},
   "outputs": [],
   "source": []
  }
 ],
 "metadata": {
  "kernelspec": {
   "display_name": "Python 3",
   "language": "python",
   "name": "python3"
  },
  "language_info": {
   "codemirror_mode": {
    "name": "ipython",
    "version": 3
   },
   "file_extension": ".py",
   "mimetype": "text/x-python",
   "name": "python",
   "nbconvert_exporter": "python",
   "pygments_lexer": "ipython3",
   "version": "3.6.4"
  }
 },
 "nbformat": 4,
 "nbformat_minor": 2
}
