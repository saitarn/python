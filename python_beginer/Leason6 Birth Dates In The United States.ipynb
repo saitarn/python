{
 "cells": [
  {
   "cell_type": "markdown",
   "metadata": {},
   "source": [
    "## Birth Dates In The United States The raw data behind the story Some People Are Too Superstitious To Have A Baby On Friday The 13th, which you can read here.\n",
    "\n",
    "We'll be working with the data set from the Centers for Disease Control and Prevention's National National Center for Health Statistics. The data set has the following structure:\n",
    "\n",
    "year - Year month - Month date_of_month - Day number of the month day_of_week - Day of week, where 1 is Monday and 7 is Sunday births - Number of births"
   ]
  },
  {
   "cell_type": "code",
   "execution_count": 5,
   "metadata": {},
   "outputs": [
    {
     "name": "stdout",
     "output_type": "stream",
     "text": [
      "['year,month,date_of_month,day_of_week,births']\n",
      "['1994,1,1,6,8096', '1994,1,2,7,7772', '1994,1,3,1,10142', '1994,1,4,2,11248', '1994,1,5,3,11053']\n"
     ]
    }
   ],
   "source": [
    "f = open('US_births_1994-2003_CDC_NCHS.csv', 'r')\n",
    "text = f.read()\n",
    "rows = text.split(\"\\n\")\n",
    "print(rows[0:1])\n",
    "\n",
    "rows_no_header = rows[1:]\n",
    "print(rows_no_header[0:5])\n"
   ]
  },
  {
   "cell_type": "code",
   "execution_count": 3,
   "metadata": {},
   "outputs": [
    {
     "data": {
      "text/plain": [
       "['1994,1,1,6,8096',\n",
       " '1994,1,2,7,7772',\n",
       " '1994,1,3,1,10142',\n",
       " '1994,1,4,2,11248',\n",
       " '1994,1,5,3,11053']"
      ]
     },
     "execution_count": 3,
     "metadata": {},
     "output_type": "execute_result"
    }
   ],
   "source": [
    "rows_no_header[0:5]"
   ]
  },
  {
   "cell_type": "code",
   "execution_count": 7,
   "metadata": {},
   "outputs": [
    {
     "data": {
      "text/plain": [
       "{'1': 5789166,\n",
       " '2': 6446196,\n",
       " '3': 6322855,\n",
       " '4': 6288429,\n",
       " '5': 6233657,\n",
       " '6': 4562111,\n",
       " '7': 4079723}"
      ]
     },
     "execution_count": 7,
     "metadata": {},
     "output_type": "execute_result"
    }
   ],
   "source": [
    "day_count = {}\n",
    "for row in rows_no_header:\n",
    "    data_split = row.split(',')\n",
    "    day_of_week = data_split[3]\n",
    "    num_of_birth = int(data_split[4])\n",
    "    \n",
    "    if day_of_week in day_count:\n",
    "        day_count[day_of_week] = day_count[day_of_week] + num_of_birth\n",
    "    else:\n",
    "        day_count[day_of_week] = num_of_birth\n",
    "    \n",
    "day_count"
   ]
  }
 ],
 "metadata": {
  "kernelspec": {
   "display_name": "Python 3",
   "language": "python",
   "name": "python3"
  }
 },
 "nbformat": 4,
 "nbformat_minor": 2
}
